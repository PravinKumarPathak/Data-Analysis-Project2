{
 "cells": [
  {
   "cell_type": "markdown",
   "id": "ca1bbd4c",
   "metadata": {},
   "source": [
    "## Import Libraries"
   ]
  },
  {
   "cell_type": "code",
   "execution_count": 1,
   "id": "29db8d29",
   "metadata": {},
   "outputs": [],
   "source": [
    "from googleapiclient.discovery import build \n",
    "import pandas as pd\n",
    "from matplotlib import pyplot as plt"
   ]
  },
  {
   "cell_type": "markdown",
   "id": "c9907cd3",
   "metadata": {},
   "source": [
    "## Get api key,channel Id and service"
   ]
  },
  {
   "cell_type": "code",
   "execution_count": 2,
   "id": "566970cf",
   "metadata": {},
   "outputs": [],
   "source": [
    "api_key='ADIzaSyCZHdjHVsbHHw6Ln4osZDW0qqPX0tYyI8SM'\n",
    "channel_ids=['UCnz-ZXXER4jOvuED5trXfEA',  \n",
    "            'UCyHta2dyCTkf29AB67AYn7A',  \n",
    "            'UCJihyK0A38SZ6SdJirEdIOw',  \n",
    "            'UCM-yUTYGmrNvKOCcAl21g3w',  \n",
    "            'UCQYMhOMi_Cdj1CEAU-fv80A'  \n",
    "            ]\n",
    "youtube=build('youtube','v3',developerKey=api_key) "
   ]
  },
  {
   "cell_type": "markdown",
   "id": "2a64a7e7",
   "metadata": {},
   "source": [
    "## 1. Extract details of some Youtube Channels"
   ]
  },
  {
   "cell_type": "markdown",
   "id": "a5374b61",
   "metadata": {},
   "source": [
    "### Function to get Channel Statistics"
   ]
  },
  {
   "cell_type": "code",
   "execution_count": 3,
   "id": "c5cbdc5e",
   "metadata": {},
   "outputs": [],
   "source": [
    "def get_channel_stats(youtube,channel_ids):\n",
    "    all_data=[]\n",
    "    request=youtube.channels().list(\n",
    "        part='snippet,contentDetails,statistics',\n",
    "        id=','.join(channel_ids))\n",
    "    response=request.execute() \n",
    "    for i in range(len(response['items'])):\n",
    "        data=dict(Channel_name=response['items'][i]['snippet']['title'],\n",
    "                  Subscribers=response['items'][i]['statistics']['subscriberCount'],\n",
    "                  Views=response['items'][i]['statistics']['viewCount'],\n",
    "                  Total_videos=response['items'][i]['statistics']['videoCount'],\n",
    "                 Playlist_id=response['items'][i]['contentDetails']['relatedPlaylists']['uploads'])\n",
    "        all_data.append(data)\n",
    "    return all_data"
   ]
  },
  {
   "cell_type": "code",
   "execution_count": 4,
   "id": "d7cafec9",
   "metadata": {},
   "outputs": [],
   "source": [
    "channel_statistics=get_channel_stats(youtube,channel_ids)"
   ]
  },
  {
   "cell_type": "markdown",
   "id": "fa9339b8",
   "metadata": {},
   "source": [
    "### DataFrame"
   ]
  },
  {
   "cell_type": "code",
   "execution_count": 5,
   "id": "3b269c6f",
   "metadata": {},
   "outputs": [],
   "source": [
    "channel_data=pd.DataFrame(channel_statistics)"
   ]
  },
  {
   "cell_type": "code",
   "execution_count": 6,
   "id": "09e0511d",
   "metadata": {},
   "outputs": [
    {
     "data": {
      "text/html": [
       "<div>\n",
       "<style scoped>\n",
       "    .dataframe tbody tr th:only-of-type {\n",
       "        vertical-align: middle;\n",
       "    }\n",
       "\n",
       "    .dataframe tbody tr th {\n",
       "        vertical-align: top;\n",
       "    }\n",
       "\n",
       "    .dataframe thead th {\n",
       "        text-align: right;\n",
       "    }\n",
       "</style>\n",
       "<table border=\"1\" class=\"dataframe\">\n",
       "  <thead>\n",
       "    <tr style=\"text-align: right;\">\n",
       "      <th></th>\n",
       "      <th>Channel_name</th>\n",
       "      <th>Subscribers</th>\n",
       "      <th>Views</th>\n",
       "      <th>Total_videos</th>\n",
       "      <th>Playlist_id</th>\n",
       "    </tr>\n",
       "  </thead>\n",
       "  <tbody>\n",
       "    <tr>\n",
       "      <th>0</th>\n",
       "      <td>Neso Academy</td>\n",
       "      <td>2240000</td>\n",
       "      <td>475757685</td>\n",
       "      <td>2542</td>\n",
       "      <td>UUQYMhOMi_Cdj1CEAU-fv80A</td>\n",
       "    </tr>\n",
       "    <tr>\n",
       "      <th>1</th>\n",
       "      <td>Jenny's Lectures CS IT</td>\n",
       "      <td>1390000</td>\n",
       "      <td>154130436</td>\n",
       "      <td>673</td>\n",
       "      <td>UUM-yUTYGmrNvKOCcAl21g3w</td>\n",
       "    </tr>\n",
       "    <tr>\n",
       "      <th>2</th>\n",
       "      <td>Gate Smashers</td>\n",
       "      <td>1570000</td>\n",
       "      <td>344645682</td>\n",
       "      <td>1369</td>\n",
       "      <td>UUJihyK0A38SZ6SdJirEdIOw</td>\n",
       "    </tr>\n",
       "    <tr>\n",
       "      <th>3</th>\n",
       "      <td>techTFQ</td>\n",
       "      <td>237000</td>\n",
       "      <td>12119344</td>\n",
       "      <td>97</td>\n",
       "      <td>UUnz-ZXXER4jOvuED5trXfEA</td>\n",
       "    </tr>\n",
       "    <tr>\n",
       "      <th>4</th>\n",
       "      <td>5 Minutes Engineering</td>\n",
       "      <td>516000</td>\n",
       "      <td>82356969</td>\n",
       "      <td>1761</td>\n",
       "      <td>UUyHta2dyCTkf29AB67AYn7A</td>\n",
       "    </tr>\n",
       "  </tbody>\n",
       "</table>\n",
       "</div>"
      ],
      "text/plain": [
       "             Channel_name Subscribers      Views Total_videos  \\\n",
       "0            Neso Academy     2240000  475757685         2542   \n",
       "1  Jenny's Lectures CS IT     1390000  154130436          673   \n",
       "2           Gate Smashers     1570000  344645682         1369   \n",
       "3                 techTFQ      237000   12119344           97   \n",
       "4   5 Minutes Engineering      516000   82356969         1761   \n",
       "\n",
       "                Playlist_id  \n",
       "0  UUQYMhOMi_Cdj1CEAU-fv80A  \n",
       "1  UUM-yUTYGmrNvKOCcAl21g3w  \n",
       "2  UUJihyK0A38SZ6SdJirEdIOw  \n",
       "3  UUnz-ZXXER4jOvuED5trXfEA  \n",
       "4  UUyHta2dyCTkf29AB67AYn7A  "
      ]
     },
     "execution_count": 6,
     "metadata": {},
     "output_type": "execute_result"
    }
   ],
   "source": [
    "channel_data"
   ]
  },
  {
   "cell_type": "markdown",
   "id": "7dfcb1b7",
   "metadata": {},
   "source": [
    "### Convert some columns to numeric"
   ]
  },
  {
   "cell_type": "code",
   "execution_count": 7,
   "id": "24d7764e",
   "metadata": {},
   "outputs": [
    {
     "data": {
      "text/plain": [
       "Channel_name    object\n",
       "Subscribers      int64\n",
       "Views            int64\n",
       "Total_videos     int64\n",
       "Playlist_id     object\n",
       "dtype: object"
      ]
     },
     "execution_count": 7,
     "metadata": {},
     "output_type": "execute_result"
    }
   ],
   "source": [
    "channel_data['Subscribers']=pd.to_numeric(channel_data['Subscribers'])\n",
    "channel_data['Views']=pd.to_numeric(channel_data['Views'])\n",
    "channel_data['Total_videos']=pd.to_numeric(channel_data['Total_videos'])\n",
    "channel_data.dtypes"
   ]
  },
  {
   "cell_type": "markdown",
   "id": "db6e9353",
   "metadata": {},
   "source": [
    "### Plots"
   ]
  },
  {
   "cell_type": "code",
   "execution_count": 8,
   "id": "28471798",
   "metadata": {},
   "outputs": [
    {
     "data": {
      "image/png": "[encoded data removed]",
      "text/plain": [
       "<Figure size 1000x500 with 1 Axes>"
      ]
     },
     "metadata": {},
     "output_type": "display_data"
    }
   ],
   "source": [
    "plt.figure(figsize=(10,5))\n",
    "plt.bar(channel_data['Channel_name'],channel_data['Subscribers'],color=['b','g','y','grey','r'])\n",
    "plt.xlabel('Channel Name')\n",
    "plt.ylabel('Subscribers')\n",
    "plt.ticklabel_format(style='plain',axis='y') \n",
    "plt.show()"
   ]
  },
  {
   "cell_type": "code",
   "execution_count": 9,
   "id": "da3ba11e",
   "metadata": {},
   "outputs": [
    {
     "data": {
      "image/png": "[encoded data removed]",
      "text/plain": [
       "<Figure size 1000x500 with 1 Axes>"
      ]
     },
     "metadata": {},
     "output_type": "display_data"
    }
   ],
   "source": [
    "plt.figure(figsize=(10,5))\n",
    "plt.bar(channel_data['Channel_name'],channel_data['Views'],color=['b','g','y','grey','r'])\n",
    "plt.xlabel('Channel Name')\n",
    "plt.ylabel('Views')\n",
    "plt.ticklabel_format(style='plain',axis='y') \n",
    "plt.show()"
   ]
  },
  {
   "cell_type": "code",
   "execution_count": 10,
   "id": "7e788ad1",
   "metadata": {},
   "outputs": [
    {
     "data": {
      "image/png": "[encoded data removed]",
      "text/plain": [
       "<Figure size 1000x500 with 1 Axes>"
      ]
     },
     "metadata": {},
     "output_type": "display_data"
    }
   ],
   "source": [
    "plt.figure(figsize=(10,5))\n",
    "bars=plt.bar(channel_data['Channel_name'],channel_data['Total_videos'],color=['b','g','y','grey','r'])\n",
    "plt.xlabel('Channel Name')\n",
    "plt.ylabel('Total Videos')\n",
    "plt.ticklabel_format(style='plain',axis='y')\n",
    "plt.show()"
   ]
  },
  {
   "cell_type": "markdown",
   "id": "e72cae05",
   "metadata": {},
   "source": [
    "### Function to get video ids"
   ]
  },
  {
   "cell_type": "code",
   "execution_count": 11,
   "id": "9a21ddc0",
   "metadata": {},
   "outputs": [
    {
     "data": {
      "text/html": [
       "<div>\n",
       "<style scoped>\n",
       "    .dataframe tbody tr th:only-of-type {\n",
       "        vertical-align: middle;\n",
       "    }\n",
       "\n",
       "    .dataframe tbody tr th {\n",
       "        vertical-align: top;\n",
       "    }\n",
       "\n",
       "    .dataframe thead th {\n",
       "        text-align: right;\n",
       "    }\n",
       "</style>\n",
       "<table border=\"1\" class=\"dataframe\">\n",
       "  <thead>\n",
       "    <tr style=\"text-align: right;\">\n",
       "      <th></th>\n",
       "      <th>Channel_name</th>\n",
       "      <th>Subscribers</th>\n",
       "      <th>Views</th>\n",
       "      <th>Total_videos</th>\n",
       "      <th>Playlist_id</th>\n",
       "    </tr>\n",
       "  </thead>\n",
       "  <tbody>\n",
       "    <tr>\n",
       "      <th>0</th>\n",
       "      <td>Neso Academy</td>\n",
       "      <td>2240000</td>\n",
       "      <td>475757685</td>\n",
       "      <td>2542</td>\n",
       "      <td>UUQYMhOMi_Cdj1CEAU-fv80A</td>\n",
       "    </tr>\n",
       "    <tr>\n",
       "      <th>1</th>\n",
       "      <td>Jenny's Lectures CS IT</td>\n",
       "      <td>1390000</td>\n",
       "      <td>154130436</td>\n",
       "      <td>673</td>\n",
       "      <td>UUM-yUTYGmrNvKOCcAl21g3w</td>\n",
       "    </tr>\n",
       "    <tr>\n",
       "      <th>2</th>\n",
       "      <td>Gate Smashers</td>\n",
       "      <td>1570000</td>\n",
       "      <td>344645682</td>\n",
       "      <td>1369</td>\n",
       "      <td>UUJihyK0A38SZ6SdJirEdIOw</td>\n",
       "    </tr>\n",
       "    <tr>\n",
       "      <th>3</th>\n",
       "      <td>techTFQ</td>\n",
       "      <td>237000</td>\n",
       "      <td>12119344</td>\n",
       "      <td>97</td>\n",
       "      <td>UUnz-ZXXER4jOvuED5trXfEA</td>\n",
       "    </tr>\n",
       "    <tr>\n",
       "      <th>4</th>\n",
       "      <td>5 Minutes Engineering</td>\n",
       "      <td>516000</td>\n",
       "      <td>82356969</td>\n",
       "      <td>1761</td>\n",
       "      <td>UUyHta2dyCTkf29AB67AYn7A</td>\n",
       "    </tr>\n",
       "  </tbody>\n",
       "</table>\n",
       "</div>"
      ],
      "text/plain": [
       "             Channel_name  Subscribers      Views  Total_videos  \\\n",
       "0            Neso Academy      2240000  475757685          2542   \n",
       "1  Jenny's Lectures CS IT      1390000  154130436           673   \n",
       "2           Gate Smashers      1570000  344645682          1369   \n",
       "3                 techTFQ       237000   12119344            97   \n",
       "4   5 Minutes Engineering       516000   82356969          1761   \n",
       "\n",
       "                Playlist_id  \n",
       "0  UUQYMhOMi_Cdj1CEAU-fv80A  \n",
       "1  UUM-yUTYGmrNvKOCcAl21g3w  \n",
       "2  UUJihyK0A38SZ6SdJirEdIOw  \n",
       "3  UUnz-ZXXER4jOvuED5trXfEA  \n",
       "4  UUyHta2dyCTkf29AB67AYn7A  "
      ]
     },
     "execution_count": 11,
     "metadata": {},
     "output_type": "execute_result"
    }
   ],
   "source": [
    "channel_data"
   ]
  },
  {
   "cell_type": "code",
   "execution_count": 12,
   "id": "c6af00cd",
   "metadata": {},
   "outputs": [],
   "source": [
    "Playlist_id=channel_data.loc[channel_data['Channel_name']=='Neso Academy','Playlist_id'].iloc[0]"
   ]
  },
  {
   "cell_type": "code",
   "execution_count": 13,
   "id": "5455f646",
   "metadata": {},
   "outputs": [
    {
     "data": {
      "text/plain": [
       "'UUQYMhOMi_Cdj1CEAU-fv80A'"
      ]
     },
     "execution_count": 13,
     "metadata": {},
     "output_type": "execute_result"
    }
   ],
   "source": [
    "Playlist_id"
   ]
  },
  {
   "cell_type": "code",
   "execution_count": 14,
   "id": "5257e305",
   "metadata": {},
   "outputs": [],
   "source": [
    "def get_video_ids(youtube,Playlist_id):\n",
    "    request=youtube.playlistItems().list(\n",
    "        part='contentDetails',\n",
    "        playlistId=Playlist_id,\n",
    "        maxResults=50)    \n",
    "    response=request.execute()\n",
    "    video_ids=[]\n",
    "    for i in range(len(response['items'])):\n",
    "        video_ids.append(response['items'][i]['contentDetails']['videoId'])\n",
    "    next_page_token=response.get('nextPageToken') \n",
    "    more_pages=True\n",
    "    while more_pages:\n",
    "        if next_page_token is None:\n",
    "            more_pages=False\n",
    "        else:\n",
    "            request=youtube.playlistItems().list(\n",
    "                part='contentDetails',\n",
    "                playlistId=Playlist_id,\n",
    "                maxResults=50,\n",
    "                pageToken=next_page_token)   \n",
    "            response=request.execute()  \n",
    "            for i in range(len(response['items'])):\n",
    "                video_ids.append(response['items'][i]['contentDetails']['videoId'])\n",
    "            next_page_token=response.get('nextPageToken')\n",
    "    return video_ids"
   ]
  },
  {
   "cell_type": "code",
   "execution_count": 15,
   "id": "c6d17895",
   "metadata": {},
   "outputs": [],
   "source": [
    "video_ids=get_video_ids(youtube,Playlist_id)"
   ]
  },
  {
   "cell_type": "markdown",
   "id": "9ca42768",
   "metadata": {},
   "source": [
    "## 2. Extract in dept details of the top Youtube Channel among these channels"
   ]
  },
  {
   "cell_type": "markdown",
   "id": "455bd9df",
   "metadata": {},
   "source": [
    "### Function to get Video Details"
   ]
  },
  {
   "cell_type": "code",
   "execution_count": 16,
   "id": "0d647b42",
   "metadata": {},
   "outputs": [],
   "source": [
    "def get_video_details(youtube,video_ids):\n",
    "    all_video_stats=[]\n",
    "    for i in range(0,len(video_ids),50):\n",
    "        request=youtube.videos().list(\n",
    "            part='snippet,statistics',\n",
    "            id=','.join(video_ids[i:i+50]))\n",
    "        response=request.execute()\n",
    "        for video in response['items']:\n",
    "            video_stats=dict(Title=video['snippet']['title'],\n",
    "                            Published_date=video['snippet']['publishedAt'],\n",
    "                            Views=video['statistics']['viewCount'],\n",
    "                            Likes=video['statistics']['likeCount'],\n",
    "                            Comments=video['statistics']['commentCount'])\n",
    "            all_video_stats.append(video_stats)\n",
    "    return all_video_stats"
   ]
  },
  {
   "cell_type": "code",
   "execution_count": 17,
   "id": "2e39047e",
   "metadata": {},
   "outputs": [],
   "source": [
    "video_details=get_video_details(youtube,video_ids)"
   ]
  },
  {
   "cell_type": "markdown",
   "id": "a4daf0b7",
   "metadata": {},
   "source": [
    "### DataFrame"
   ]
  },
  {
   "cell_type": "code",
   "execution_count": 18,
   "id": "c154ceec",
   "metadata": {},
   "outputs": [],
   "source": [
    "video_data=pd.DataFrame(video_details)"
   ]
  },
  {
   "cell_type": "markdown",
   "id": "0f6f551e",
   "metadata": {},
   "source": [
    "### Convert some columns to numeric"
   ]
  },
  {
   "cell_type": "code",
   "execution_count": 19,
   "id": "a91cce87",
   "metadata": {},
   "outputs": [
    {
     "data": {
      "text/html": [
       "<div>\n",
       "<style scoped>\n",
       "    .dataframe tbody tr th:only-of-type {\n",
       "        vertical-align: middle;\n",
       "    }\n",
       "\n",
       "    .dataframe tbody tr th {\n",
       "        vertical-align: top;\n",
       "    }\n",
       "\n",
       "    .dataframe thead th {\n",
       "        text-align: right;\n",
       "    }\n",
       "</style>\n",
       "<table border=\"1\" class=\"dataframe\">\n",
       "  <thead>\n",
       "    <tr style=\"text-align: right;\">\n",
       "      <th></th>\n",
       "      <th>Title</th>\n",
       "      <th>Published_date</th>\n",
       "      <th>Views</th>\n",
       "      <th>Likes</th>\n",
       "      <th>Comments</th>\n",
       "    </tr>\n",
       "  </thead>\n",
       "  <tbody>\n",
       "    <tr>\n",
       "      <th>0</th>\n",
       "      <td>Conditionals and Loops - Program 1</td>\n",
       "      <td>2023-09-18</td>\n",
       "      <td>5974</td>\n",
       "      <td>79</td>\n",
       "      <td>6</td>\n",
       "    </tr>\n",
       "    <tr>\n",
       "      <th>1</th>\n",
       "      <td>Counter Mode (CTR)</td>\n",
       "      <td>2023-09-16</td>\n",
       "      <td>4015</td>\n",
       "      <td>51</td>\n",
       "      <td>1</td>\n",
       "    </tr>\n",
       "    <tr>\n",
       "      <th>2</th>\n",
       "      <td>Output Feedback (OFB)</td>\n",
       "      <td>2023-09-14</td>\n",
       "      <td>3264</td>\n",
       "      <td>47</td>\n",
       "      <td>2</td>\n",
       "    </tr>\n",
       "    <tr>\n",
       "      <th>3</th>\n",
       "      <td>The Basics of while Loop in Python</td>\n",
       "      <td>2023-09-13</td>\n",
       "      <td>5350</td>\n",
       "      <td>80</td>\n",
       "      <td>10</td>\n",
       "    </tr>\n",
       "    <tr>\n",
       "      <th>4</th>\n",
       "      <td>Semantic Analysis | Chapter-5 | Compiler Desig...</td>\n",
       "      <td>2023-09-12</td>\n",
       "      <td>2473</td>\n",
       "      <td>28</td>\n",
       "      <td>1</td>\n",
       "    </tr>\n",
       "    <tr>\n",
       "      <th>...</th>\n",
       "      <td>...</td>\n",
       "      <td>...</td>\n",
       "      <td>...</td>\n",
       "      <td>...</td>\n",
       "      <td>...</td>\n",
       "    </tr>\n",
       "    <tr>\n",
       "      <th>2523</th>\n",
       "      <td>Karnaugh Map (K' Map) - Part 1</td>\n",
       "      <td>2014-09-02</td>\n",
       "      <td>1788338</td>\n",
       "      <td>22477</td>\n",
       "      <td>970</td>\n",
       "    </tr>\n",
       "    <tr>\n",
       "      <th>2524</th>\n",
       "      <td>Gray Code to Binary &amp; Binary to Gray Code conv...</td>\n",
       "      <td>2014-08-29</td>\n",
       "      <td>148044</td>\n",
       "      <td>853</td>\n",
       "      <td>82</td>\n",
       "    </tr>\n",
       "    <tr>\n",
       "      <th>2525</th>\n",
       "      <td>Excess 3 Code (XS 3 Code) Old</td>\n",
       "      <td>2014-08-29</td>\n",
       "      <td>68710</td>\n",
       "      <td>268</td>\n",
       "      <td>13</td>\n",
       "    </tr>\n",
       "    <tr>\n",
       "      <th>2526</th>\n",
       "      <td>Binary Coded Decimal (BCD Code)</td>\n",
       "      <td>2014-08-29</td>\n",
       "      <td>247885</td>\n",
       "      <td>1215</td>\n",
       "      <td>62</td>\n",
       "    </tr>\n",
       "    <tr>\n",
       "      <th>2527</th>\n",
       "      <td>Neso Academy Introduction Video</td>\n",
       "      <td>2014-07-30</td>\n",
       "      <td>53990</td>\n",
       "      <td>297</td>\n",
       "      <td>43</td>\n",
       "    </tr>\n",
       "  </tbody>\n",
       "</table>\n",
       "<p>2528 rows × 5 columns</p>\n",
       "</div>"
      ],
      "text/plain": [
       "                                                  Title Published_date  \\\n",
       "0                    Conditionals and Loops - Program 1     2023-09-18   \n",
       "1                                    Counter Mode (CTR)     2023-09-16   \n",
       "2                                 Output Feedback (OFB)     2023-09-14   \n",
       "3                    The Basics of while Loop in Python     2023-09-13   \n",
       "4     Semantic Analysis | Chapter-5 | Compiler Desig...     2023-09-12   \n",
       "...                                                 ...            ...   \n",
       "2523                     Karnaugh Map (K' Map) - Part 1     2014-09-02   \n",
       "2524  Gray Code to Binary & Binary to Gray Code conv...     2014-08-29   \n",
       "2525                      Excess 3 Code (XS 3 Code) Old     2014-08-29   \n",
       "2526                    Binary Coded Decimal (BCD Code)     2014-08-29   \n",
       "2527                    Neso Academy Introduction Video     2014-07-30   \n",
       "\n",
       "        Views  Likes  Comments  \n",
       "0        5974     79         6  \n",
       "1        4015     51         1  \n",
       "2        3264     47         2  \n",
       "3        5350     80        10  \n",
       "4        2473     28         1  \n",
       "...       ...    ...       ...  \n",
       "2523  1788338  22477       970  \n",
       "2524   148044    853        82  \n",
       "2525    68710    268        13  \n",
       "2526   247885   1215        62  \n",
       "2527    53990    297        43  \n",
       "\n",
       "[2528 rows x 5 columns]"
      ]
     },
     "execution_count": 19,
     "metadata": {},
     "output_type": "execute_result"
    }
   ],
   "source": [
    "video_data['Published_date']=pd.to_datetime(video_data['Published_date']).dt.date\n",
    "video_data['Views']=pd.to_numeric(video_data['Views'])\n",
    "video_data['Likes']=pd.to_numeric(video_data['Likes'])\n",
    "video_data['Comments']=pd.to_numeric(video_data['Comments'])\n",
    "video_data"
   ]
  },
  {
   "cell_type": "markdown",
   "id": "07379273",
   "metadata": {},
   "source": [
    "### Top 10 videos"
   ]
  },
  {
   "cell_type": "code",
   "execution_count": 20,
   "id": "e48aa66d",
   "metadata": {},
   "outputs": [],
   "source": [
    "top10_videos=video_data.sort_values(by='Views',ascending=False).head(10)"
   ]
  },
  {
   "cell_type": "code",
   "execution_count": 21,
   "id": "bcfef8bd",
   "metadata": {},
   "outputs": [
    {
     "data": {
      "text/html": [
       "<div>\n",
       "<style scoped>\n",
       "    .dataframe tbody tr th:only-of-type {\n",
       "        vertical-align: middle;\n",
       "    }\n",
       "\n",
       "    .dataframe tbody tr th {\n",
       "        vertical-align: top;\n",
       "    }\n",
       "\n",
       "    .dataframe thead th {\n",
       "        text-align: right;\n",
       "    }\n",
       "</style>\n",
       "<table border=\"1\" class=\"dataframe\">\n",
       "  <thead>\n",
       "    <tr style=\"text-align: right;\">\n",
       "      <th></th>\n",
       "      <th>Title</th>\n",
       "      <th>Published_date</th>\n",
       "      <th>Views</th>\n",
       "      <th>Likes</th>\n",
       "      <th>Comments</th>\n",
       "    </tr>\n",
       "  </thead>\n",
       "  <tbody>\n",
       "    <tr>\n",
       "      <th>2409</th>\n",
       "      <td>What is Signal?</td>\n",
       "      <td>2015-03-29</td>\n",
       "      <td>3726659</td>\n",
       "      <td>17690</td>\n",
       "      <td>601</td>\n",
       "    </tr>\n",
       "    <tr>\n",
       "      <th>2385</th>\n",
       "      <td>SR Latch | NOR and NAND SR Latch</td>\n",
       "      <td>2015-04-20</td>\n",
       "      <td>3322316</td>\n",
       "      <td>36593</td>\n",
       "      <td>1770</td>\n",
       "    </tr>\n",
       "    <tr>\n",
       "      <th>2455</th>\n",
       "      <td>Introduction to SR Flip Flop</td>\n",
       "      <td>2015-02-09</td>\n",
       "      <td>2882704</td>\n",
       "      <td>19764</td>\n",
       "      <td>443</td>\n",
       "    </tr>\n",
       "    <tr>\n",
       "      <th>2069</th>\n",
       "      <td>Introduction to Theory of Computation</td>\n",
       "      <td>2016-12-15</td>\n",
       "      <td>2760759</td>\n",
       "      <td>18005</td>\n",
       "      <td>509</td>\n",
       "    </tr>\n",
       "    <tr>\n",
       "      <th>1892</th>\n",
       "      <td>Introduction to Operating Systems</td>\n",
       "      <td>2017-08-02</td>\n",
       "      <td>2386151</td>\n",
       "      <td>28853</td>\n",
       "      <td>630</td>\n",
       "    </tr>\n",
       "    <tr>\n",
       "      <th>2481</th>\n",
       "      <td>Introduction to Multiplexers | MUX Basic</td>\n",
       "      <td>2014-12-06</td>\n",
       "      <td>2370683</td>\n",
       "      <td>20969</td>\n",
       "      <td>482</td>\n",
       "    </tr>\n",
       "    <tr>\n",
       "      <th>2451</th>\n",
       "      <td>Introduction to JK flip flop</td>\n",
       "      <td>2015-02-18</td>\n",
       "      <td>2319513</td>\n",
       "      <td>17776</td>\n",
       "      <td>435</td>\n",
       "    </tr>\n",
       "    <tr>\n",
       "      <th>2459</th>\n",
       "      <td>Introduction to Sequential Circuits | Important</td>\n",
       "      <td>2015-02-01</td>\n",
       "      <td>2294465</td>\n",
       "      <td>19342</td>\n",
       "      <td>356</td>\n",
       "    </tr>\n",
       "    <tr>\n",
       "      <th>2466</th>\n",
       "      <td>Introduction to Encoders and Decoders</td>\n",
       "      <td>2015-01-23</td>\n",
       "      <td>2073510</td>\n",
       "      <td>16182</td>\n",
       "      <td>259</td>\n",
       "    </tr>\n",
       "    <tr>\n",
       "      <th>2501</th>\n",
       "      <td>Full Adder</td>\n",
       "      <td>2014-10-20</td>\n",
       "      <td>1959699</td>\n",
       "      <td>16981</td>\n",
       "      <td>383</td>\n",
       "    </tr>\n",
       "  </tbody>\n",
       "</table>\n",
       "</div>"
      ],
      "text/plain": [
       "                                                Title Published_date    Views  \\\n",
       "2409                                  What is Signal?     2015-03-29  3726659   \n",
       "2385                 SR Latch | NOR and NAND SR Latch     2015-04-20  3322316   \n",
       "2455                     Introduction to SR Flip Flop     2015-02-09  2882704   \n",
       "2069            Introduction to Theory of Computation     2016-12-15  2760759   \n",
       "1892                Introduction to Operating Systems     2017-08-02  2386151   \n",
       "2481         Introduction to Multiplexers | MUX Basic     2014-12-06  2370683   \n",
       "2451                     Introduction to JK flip flop     2015-02-18  2319513   \n",
       "2459  Introduction to Sequential Circuits | Important     2015-02-01  2294465   \n",
       "2466            Introduction to Encoders and Decoders     2015-01-23  2073510   \n",
       "2501                                       Full Adder     2014-10-20  1959699   \n",
       "\n",
       "      Likes  Comments  \n",
       "2409  17690       601  \n",
       "2385  36593      1770  \n",
       "2455  19764       443  \n",
       "2069  18005       509  \n",
       "1892  28853       630  \n",
       "2481  20969       482  \n",
       "2451  17776       435  \n",
       "2459  19342       356  \n",
       "2466  16182       259  \n",
       "2501  16981       383  "
      ]
     },
     "execution_count": 21,
     "metadata": {},
     "output_type": "execute_result"
    }
   ],
   "source": [
    "top10_videos"
   ]
  },
  {
   "cell_type": "code",
   "execution_count": 36,
   "id": "2429550f",
   "metadata": {},
   "outputs": [
    {
     "data": {
      "image/png": "[encoded data removed]",
      "text/plain": [
       "<Figure size 1000x600 with 1 Axes>"
      ]
     },
     "metadata": {},
     "output_type": "display_data"
    }
   ],
   "source": [
    "plt.figure(figsize=(10,6))\n",
    "plt.barh(top10_videos['Title'],top10_videos['Views'],color=['b','g','y','grey','r'])\n",
    "plt.xlabel('Views')\n",
    "plt.ylabel('Title')\n",
    "plt.ticklabel_format(style='plain',axis='x')\n",
    "plt.show()"
   ]
  },
  {
   "cell_type": "markdown",
   "id": "c159ceef",
   "metadata": {},
   "source": [
    "### Videos per Month"
   ]
  },
  {
   "cell_type": "code",
   "execution_count": 23,
   "id": "3666ac3f",
   "metadata": {},
   "outputs": [],
   "source": [
    "video_data['Month']=pd.to_datetime(video_data['Published_date']).dt.strftime('%b')"
   ]
  },
  {
   "cell_type": "code",
   "execution_count": 24,
   "id": "de05747a",
   "metadata": {},
   "outputs": [
    {
     "data": {
      "text/html": [
       "<div>\n",
       "<style scoped>\n",
       "    .dataframe tbody tr th:only-of-type {\n",
       "        vertical-align: middle;\n",
       "    }\n",
       "\n",
       "    .dataframe tbody tr th {\n",
       "        vertical-align: top;\n",
       "    }\n",
       "\n",
       "    .dataframe thead th {\n",
       "        text-align: right;\n",
       "    }\n",
       "</style>\n",
       "<table border=\"1\" class=\"dataframe\">\n",
       "  <thead>\n",
       "    <tr style=\"text-align: right;\">\n",
       "      <th></th>\n",
       "      <th>Title</th>\n",
       "      <th>Published_date</th>\n",
       "      <th>Views</th>\n",
       "      <th>Likes</th>\n",
       "      <th>Comments</th>\n",
       "      <th>Month</th>\n",
       "    </tr>\n",
       "  </thead>\n",
       "  <tbody>\n",
       "    <tr>\n",
       "      <th>0</th>\n",
       "      <td>Conditionals and Loops - Program 1</td>\n",
       "      <td>2023-09-18</td>\n",
       "      <td>5974</td>\n",
       "      <td>79</td>\n",
       "      <td>6</td>\n",
       "      <td>Sep</td>\n",
       "    </tr>\n",
       "    <tr>\n",
       "      <th>1</th>\n",
       "      <td>Counter Mode (CTR)</td>\n",
       "      <td>2023-09-16</td>\n",
       "      <td>4015</td>\n",
       "      <td>51</td>\n",
       "      <td>1</td>\n",
       "      <td>Sep</td>\n",
       "    </tr>\n",
       "    <tr>\n",
       "      <th>2</th>\n",
       "      <td>Output Feedback (OFB)</td>\n",
       "      <td>2023-09-14</td>\n",
       "      <td>3264</td>\n",
       "      <td>47</td>\n",
       "      <td>2</td>\n",
       "      <td>Sep</td>\n",
       "    </tr>\n",
       "    <tr>\n",
       "      <th>3</th>\n",
       "      <td>The Basics of while Loop in Python</td>\n",
       "      <td>2023-09-13</td>\n",
       "      <td>5350</td>\n",
       "      <td>80</td>\n",
       "      <td>10</td>\n",
       "      <td>Sep</td>\n",
       "    </tr>\n",
       "    <tr>\n",
       "      <th>4</th>\n",
       "      <td>Semantic Analysis | Chapter-5 | Compiler Desig...</td>\n",
       "      <td>2023-09-12</td>\n",
       "      <td>2473</td>\n",
       "      <td>28</td>\n",
       "      <td>1</td>\n",
       "      <td>Sep</td>\n",
       "    </tr>\n",
       "    <tr>\n",
       "      <th>...</th>\n",
       "      <td>...</td>\n",
       "      <td>...</td>\n",
       "      <td>...</td>\n",
       "      <td>...</td>\n",
       "      <td>...</td>\n",
       "      <td>...</td>\n",
       "    </tr>\n",
       "    <tr>\n",
       "      <th>2523</th>\n",
       "      <td>Karnaugh Map (K' Map) - Part 1</td>\n",
       "      <td>2014-09-02</td>\n",
       "      <td>1788338</td>\n",
       "      <td>22477</td>\n",
       "      <td>970</td>\n",
       "      <td>Sep</td>\n",
       "    </tr>\n",
       "    <tr>\n",
       "      <th>2524</th>\n",
       "      <td>Gray Code to Binary &amp; Binary to Gray Code conv...</td>\n",
       "      <td>2014-08-29</td>\n",
       "      <td>148044</td>\n",
       "      <td>853</td>\n",
       "      <td>82</td>\n",
       "      <td>Aug</td>\n",
       "    </tr>\n",
       "    <tr>\n",
       "      <th>2525</th>\n",
       "      <td>Excess 3 Code (XS 3 Code) Old</td>\n",
       "      <td>2014-08-29</td>\n",
       "      <td>68710</td>\n",
       "      <td>268</td>\n",
       "      <td>13</td>\n",
       "      <td>Aug</td>\n",
       "    </tr>\n",
       "    <tr>\n",
       "      <th>2526</th>\n",
       "      <td>Binary Coded Decimal (BCD Code)</td>\n",
       "      <td>2014-08-29</td>\n",
       "      <td>247885</td>\n",
       "      <td>1215</td>\n",
       "      <td>62</td>\n",
       "      <td>Aug</td>\n",
       "    </tr>\n",
       "    <tr>\n",
       "      <th>2527</th>\n",
       "      <td>Neso Academy Introduction Video</td>\n",
       "      <td>2014-07-30</td>\n",
       "      <td>53990</td>\n",
       "      <td>297</td>\n",
       "      <td>43</td>\n",
       "      <td>Jul</td>\n",
       "    </tr>\n",
       "  </tbody>\n",
       "</table>\n",
       "<p>2528 rows × 6 columns</p>\n",
       "</div>"
      ],
      "text/plain": [
       "                                                  Title Published_date  \\\n",
       "0                    Conditionals and Loops - Program 1     2023-09-18   \n",
       "1                                    Counter Mode (CTR)     2023-09-16   \n",
       "2                                 Output Feedback (OFB)     2023-09-14   \n",
       "3                    The Basics of while Loop in Python     2023-09-13   \n",
       "4     Semantic Analysis | Chapter-5 | Compiler Desig...     2023-09-12   \n",
       "...                                                 ...            ...   \n",
       "2523                     Karnaugh Map (K' Map) - Part 1     2014-09-02   \n",
       "2524  Gray Code to Binary & Binary to Gray Code conv...     2014-08-29   \n",
       "2525                      Excess 3 Code (XS 3 Code) Old     2014-08-29   \n",
       "2526                    Binary Coded Decimal (BCD Code)     2014-08-29   \n",
       "2527                    Neso Academy Introduction Video     2014-07-30   \n",
       "\n",
       "        Views  Likes  Comments Month  \n",
       "0        5974     79         6   Sep  \n",
       "1        4015     51         1   Sep  \n",
       "2        3264     47         2   Sep  \n",
       "3        5350     80        10   Sep  \n",
       "4        2473     28         1   Sep  \n",
       "...       ...    ...       ...   ...  \n",
       "2523  1788338  22477       970   Sep  \n",
       "2524   148044    853        82   Aug  \n",
       "2525    68710    268        13   Aug  \n",
       "2526   247885   1215        62   Aug  \n",
       "2527    53990    297        43   Jul  \n",
       "\n",
       "[2528 rows x 6 columns]"
      ]
     },
     "execution_count": 24,
     "metadata": {},
     "output_type": "execute_result"
    }
   ],
   "source": [
    "video_data"
   ]
  },
  {
   "cell_type": "code",
   "execution_count": 25,
   "id": "9cb0afd3",
   "metadata": {},
   "outputs": [],
   "source": [
    "videos_per_month=video_data.groupby('Month',as_index=False).size()"
   ]
  },
  {
   "cell_type": "code",
   "execution_count": 26,
   "id": "e778ae1a",
   "metadata": {},
   "outputs": [
    {
     "data": {
      "text/html": [
       "<div>\n",
       "<style scoped>\n",
       "    .dataframe tbody tr th:only-of-type {\n",
       "        vertical-align: middle;\n",
       "    }\n",
       "\n",
       "    .dataframe tbody tr th {\n",
       "        vertical-align: top;\n",
       "    }\n",
       "\n",
       "    .dataframe thead th {\n",
       "        text-align: right;\n",
       "    }\n",
       "</style>\n",
       "<table border=\"1\" class=\"dataframe\">\n",
       "  <thead>\n",
       "    <tr style=\"text-align: right;\">\n",
       "      <th></th>\n",
       "      <th>Month</th>\n",
       "      <th>size</th>\n",
       "    </tr>\n",
       "  </thead>\n",
       "  <tbody>\n",
       "    <tr>\n",
       "      <th>0</th>\n",
       "      <td>Apr</td>\n",
       "      <td>229</td>\n",
       "    </tr>\n",
       "    <tr>\n",
       "      <th>1</th>\n",
       "      <td>Aug</td>\n",
       "      <td>253</td>\n",
       "    </tr>\n",
       "    <tr>\n",
       "      <th>2</th>\n",
       "      <td>Dec</td>\n",
       "      <td>163</td>\n",
       "    </tr>\n",
       "    <tr>\n",
       "      <th>3</th>\n",
       "      <td>Feb</td>\n",
       "      <td>149</td>\n",
       "    </tr>\n",
       "    <tr>\n",
       "      <th>4</th>\n",
       "      <td>Jan</td>\n",
       "      <td>193</td>\n",
       "    </tr>\n",
       "    <tr>\n",
       "      <th>5</th>\n",
       "      <td>Jul</td>\n",
       "      <td>263</td>\n",
       "    </tr>\n",
       "    <tr>\n",
       "      <th>6</th>\n",
       "      <td>Jun</td>\n",
       "      <td>223</td>\n",
       "    </tr>\n",
       "    <tr>\n",
       "      <th>7</th>\n",
       "      <td>Mar</td>\n",
       "      <td>234</td>\n",
       "    </tr>\n",
       "    <tr>\n",
       "      <th>8</th>\n",
       "      <td>May</td>\n",
       "      <td>235</td>\n",
       "    </tr>\n",
       "    <tr>\n",
       "      <th>9</th>\n",
       "      <td>Nov</td>\n",
       "      <td>176</td>\n",
       "    </tr>\n",
       "    <tr>\n",
       "      <th>10</th>\n",
       "      <td>Oct</td>\n",
       "      <td>212</td>\n",
       "    </tr>\n",
       "    <tr>\n",
       "      <th>11</th>\n",
       "      <td>Sep</td>\n",
       "      <td>198</td>\n",
       "    </tr>\n",
       "  </tbody>\n",
       "</table>\n",
       "</div>"
      ],
      "text/plain": [
       "   Month  size\n",
       "0    Apr   229\n",
       "1    Aug   253\n",
       "2    Dec   163\n",
       "3    Feb   149\n",
       "4    Jan   193\n",
       "5    Jul   263\n",
       "6    Jun   223\n",
       "7    Mar   234\n",
       "8    May   235\n",
       "9    Nov   176\n",
       "10   Oct   212\n",
       "11   Sep   198"
      ]
     },
     "execution_count": 26,
     "metadata": {},
     "output_type": "execute_result"
    }
   ],
   "source": [
    "videos_per_month"
   ]
  },
  {
   "cell_type": "code",
   "execution_count": 27,
   "id": "368baf89",
   "metadata": {},
   "outputs": [],
   "source": [
    "sort_order=['Jan','Feb','Mar','Apr','May','Jun','Jul','Aug','Sep','Oct','Nov','Dec']"
   ]
  },
  {
   "cell_type": "code",
   "execution_count": 28,
   "id": "dc97865d",
   "metadata": {},
   "outputs": [],
   "source": [
    "videos_per_month.index=pd.CategoricalIndex(videos_per_month['Month'],categories=sort_order)"
   ]
  },
  {
   "cell_type": "code",
   "execution_count": 31,
   "id": "7f74d8da",
   "metadata": {},
   "outputs": [],
   "source": [
    "videos_per_month=videos_per_month.sort_index()"
   ]
  },
  {
   "cell_type": "code",
   "execution_count": 34,
   "id": "ae4d7fb1",
   "metadata": {},
   "outputs": [
    {
     "data": {
      "image/png": "[encoded data removed]",
      "text/plain": [
       "<Figure size 1000x600 with 1 Axes>"
      ]
     },
     "metadata": {},
     "output_type": "display_data"
    }
   ],
   "source": [
    "plt.figure(figsize=(10,6))\n",
    "plt.bar(videos_per_month['Month'],videos_per_month['size'],color=['violet','indigo','b','g','y','grey','y','pink','black'])\n",
    "plt.xlabel(\"Month\")\n",
    "plt.ylabel(\"Videos Per Month\")\n",
    "plt.show()"
   ]
  },
  {
   "cell_type": "markdown",
   "id": "624ce94c",
   "metadata": {},
   "source": [
    "### Convert DataFrame to csv"
   ]
  },
  {
   "cell_type": "code",
   "execution_count": 35,
   "id": "2b0d6efe",
   "metadata": {},
   "outputs": [],
   "source": [
    "video_data.to_csv('C:/Users/Pravin Kumar Pathak/Desktop/Projectds/Video_Details(Neso Academy).csv')"
   ]
  },
  {
   "cell_type": "code",
   "execution_count": null,
   "id": "1bd2abb7",
   "metadata": {},
   "outputs": [],
   "source": []
  }
 ],
 "metadata": {
  "kernelspec": {
   "display_name": "Python 3 (ipykernel)",
   "language": "python",
   "name": "python3"
  },
  "language_info": {
   "codemirror_mode": {
    "name": "ipython",
    "version": 3
   },
   "file_extension": ".py",
   "mimetype": "text/x-python",
   "name": "python",
   "nbconvert_exporter": "python",
   "pygments_lexer": "ipython3",
   "version": "3.11.3"
  }
 },
 "nbformat": 4,
 "nbformat_minor": 5
}
